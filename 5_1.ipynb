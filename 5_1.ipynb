{
  "nbformat": 4,
  "nbformat_minor": 0,
  "metadata": {
    "colab": {
      "name": "5_1.ipynb",
      "version": "0.3.2",
      "provenance": [],
      "include_colab_link": true
    },
    "kernelspec": {
      "name": "python3",
      "display_name": "Python 3"
    }
  },
  "cells": [
    {
      "cell_type": "markdown",
      "metadata": {
        "id": "view-in-github",
        "colab_type": "text"
      },
      "source": [
        "<a href=\"https://colab.research.google.com/github/ShengGuangwei/AI/blob/master/5_1.ipynb\" target=\"_parent\"><img src=\"https://colab.research.google.com/assets/colab-badge.svg\" alt=\"Open In Colab\"/></a>"
      ]
    },
    {
      "cell_type": "code",
      "metadata": {
        "id": "Qr5te5bltPxO",
        "colab_type": "code",
        "outputId": "dc5b11c9-80cf-4743-a64f-de5e42a6fdda",
        "colab": {
          "base_uri": "https://localhost:8080/",
          "height": 107
        }
      },
      "source": [
        "from tensorflow.examples.tutorials.mnist import input_data\n",
        "\n",
        "mnist = input_data.read_data_sets(\"/path/to/MNIST_data/\", one_hot=True)\n",
        "print(mnist.train.num_examples)"
      ],
      "execution_count": 0,
      "outputs": [
        {
          "output_type": "stream",
          "text": [
            "Extracting /path/to/MNIST_data/train-images-idx3-ubyte.gz\n",
            "Extracting /path/to/MNIST_data/train-labels-idx1-ubyte.gz\n",
            "Extracting /path/to/MNIST_data/t10k-images-idx3-ubyte.gz\n",
            "Extracting /path/to/MNIST_data/t10k-labels-idx1-ubyte.gz\n",
            "55000\n"
          ],
          "name": "stdout"
        }
      ]
    }
  ]
}